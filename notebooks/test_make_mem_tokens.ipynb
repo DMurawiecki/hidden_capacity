{
 "cells": [
  {
   "cell_type": "code",
   "execution_count": 1,
   "metadata": {},
   "outputs": [],
   "source": [
    "%load_ext autoreload\n",
    "%autoreload 2\n",
    "\n",
    "import os\n",
    "os.environ['CUDA_VISIBLE_DEVICES'] = '0'\n",
    "os.chdir('..')\n",
    "\n",
    "import pickle\n",
    "\n",
    "import torch\n",
    "import datasets\n",
    "from transformers import AutoModelForCausalLM, AutoTokenizer\n",
    "from transformers.modeling_outputs import CausalLMOutputWithPast\n",
    "\n",
    "from tqdm import tqdm\n",
    "\n",
    "from model import MemoryCell"
   ]
  },
  {
   "cell_type": "code",
   "execution_count": 2,
   "metadata": {},
   "outputs": [],
   "source": [
    "from train import run_single_experiment"
   ]
  },
  {
   "cell_type": "code",
   "execution_count": 3,
   "metadata": {},
   "outputs": [
    {
     "data": {
      "text/html": [
       "<div>\n",
       "<style scoped>\n",
       "    .dataframe tbody tr th:only-of-type {\n",
       "        vertical-align: middle;\n",
       "    }\n",
       "\n",
       "    .dataframe tbody tr th {\n",
       "        vertical-align: top;\n",
       "    }\n",
       "\n",
       "    .dataframe thead th {\n",
       "        text-align: right;\n",
       "    }\n",
       "</style>\n",
       "<table border=\"1\" class=\"dataframe\">\n",
       "  <thead>\n",
       "    <tr style=\"text-align: right;\">\n",
       "      <th></th>\n",
       "      <th>text</th>\n",
       "    </tr>\n",
       "  </thead>\n",
       "  <tbody>\n",
       "    <tr>\n",
       "      <th>0</th>\n",
       "      <td>'Let us stay here,' she exclaimed. 'The one ro...</td>\n",
       "    </tr>\n",
       "    <tr>\n",
       "      <th>1</th>\n",
       "      <td>These lobsters don't realize that Jonesy's fas...</td>\n",
       "    </tr>\n",
       "    <tr>\n",
       "      <th>2</th>\n",
       "      <td>It certainly was not relief that he felt on di...</td>\n",
       "    </tr>\n",
       "    <tr>\n",
       "      <th>3</th>\n",
       "      <td>Down to 1765 the duty imposed was only one pen...</td>\n",
       "    </tr>\n",
       "    <tr>\n",
       "      <th>4</th>\n",
       "      <td>And what was, perhaps, more extraordinary, tho...</td>\n",
       "    </tr>\n",
       "  </tbody>\n",
       "</table>\n",
       "</div>"
      ],
      "text/plain": [
       "                                                text\n",
       "0  'Let us stay here,' she exclaimed. 'The one ro...\n",
       "1  These lobsters don't realize that Jonesy's fas...\n",
       "2  It certainly was not relief that he felt on di...\n",
       "3  Down to 1765 the duty imposed was only one pen...\n",
       "4  And what was, perhaps, more extraordinary, tho..."
      ]
     },
     "execution_count": 3,
     "metadata": {},
     "output_type": "execute_result"
    }
   ],
   "source": [
    "import pandas as pd\n",
    "# df = pd.DataFrame({'text': texts})\n",
    "# df.to_csv('pg19_valid_1k_chunks.csv')\n",
    "df = pd.read_csv('./notebooks/pg19_valid_1k_chunks.csv', index_col=0)\n",
    "df.head()"
   ]
  },
  {
   "cell_type": "code",
   "execution_count": 4,
   "metadata": {},
   "outputs": [
    {
     "name": "stderr",
     "output_type": "stream",
     "text": [
      "You are using the default legacy behaviour of the <class 'transformers.models.llama.tokenization_llama_fast.LlamaTokenizerFast'>. This is expected, and simply means that the `legacy` (previous) behavior will be used so nothing changes for you. If you want to use the new behaviour, set `legacy=False`. This should only be set if you understand what it means, and thoroughly read the reason why this was added as explained in https://github.com/huggingface/transformers/pull/24565 - if you loaded a llama tokenizer from a GGUF file you can ignore this message.\n"
     ]
    }
   ],
   "source": [
    "model_name = 'princeton-nlp/Sheared-LLaMA-1.3B'\n",
    "tokenizer = AutoTokenizer.from_pretrained(model_name)\n",
    "max_length = 128\n",
    "N_mem_tokens = 1\n",
    "device = 'cuda'\n",
    "dtype = torch.bfloat16\n",
    "use_flash_attention_2 = True\n",
    "\n",
    "lr = 1e-02\n",
    "beta_1 = 0.9\n",
    "beta_2 = 0.9\n",
    "weight_decay = 0.01\n",
    "num_iterations = 5000\n",
    "\n",
    "samples = df['text'][:50]"
   ]
  },
  {
   "cell_type": "code",
   "execution_count": 26,
   "metadata": {},
   "outputs": [
    {
     "data": {
      "application/vnd.jupyter.widget-view+json": {
       "model_id": "8efd81bf45ad4a26be98456dfdb8910b",
       "version_major": 2,
       "version_minor": 0
      },
      "text/plain": [
       "sample_idx=5:   0%|          | 0/50 [00:00<?, ?it/s]"
      ]
     },
     "metadata": {},
     "output_type": "display_data"
    },
    {
     "name": "stderr",
     "output_type": "stream",
     "text": []
    },
    {
     "data": {
      "application/vnd.jupyter.widget-view+json": {
       "model_id": "5337df27a22f4015b55ba2a3d8148d2a",
       "version_major": 2,
       "version_minor": 0
      },
      "text/plain": [
       "sample_idx=6:   0%|          | 0/50 [00:00<?, ?it/s]"
      ]
     },
     "metadata": {},
     "output_type": "display_data"
    },
    {
     "name": "stderr",
     "output_type": "stream",
     "text": []
    },
    {
     "data": {
      "application/vnd.jupyter.widget-view+json": {
       "model_id": "33f77c4f57b84767aaec4be3645e87cf",
       "version_major": 2,
       "version_minor": 0
      },
      "text/plain": [
       "sample_idx=7:   0%|          | 0/50 [00:00<?, ?it/s]"
      ]
     },
     "metadata": {},
     "output_type": "display_data"
    },
    {
     "name": "stderr",
     "output_type": "stream",
     "text": []
    },
    {
     "data": {
      "application/vnd.jupyter.widget-view+json": {
       "model_id": "94e0b6325783410794ccbf374a2882ab",
       "version_major": 2,
       "version_minor": 0
      },
      "text/plain": [
       "sample_idx=8:   0%|          | 0/50 [00:00<?, ?it/s]"
      ]
     },
     "metadata": {},
     "output_type": "display_data"
    },
    {
     "name": "stderr",
     "output_type": "stream",
     "text": []
    },
    {
     "data": {
      "application/vnd.jupyter.widget-view+json": {
       "model_id": "85674a6452cb4b05821c3b6f4833b6ca",
       "version_major": 2,
       "version_minor": 0
      },
      "text/plain": [
       "sample_idx=9:   0%|          | 0/50 [00:00<?, ?it/s]"
      ]
     },
     "metadata": {},
     "output_type": "display_data"
    },
    {
     "name": "stderr",
     "output_type": "stream",
     "text": []
    }
   ],
   "source": [
    "from tqdm.auto import tqdm\n",
    "sample_idx = 4\n",
    "for sample_idx in range(5, 10):\n",
    "    results = []\n",
    "    for run_idx in tqdm(range(50), desc=f'sample_idx={sample_idx}'):\n",
    "        result = run_single_experiment(N_mem_tokens, samples[sample_idx], max_length, num_iterations, sample_idx, run_idx+1, \n",
    "                                    model_name, dtype, use_flash_attention_2, device, tokenizer,\n",
    "                                    lr, beta_1, beta_2, weight_decay)\n",
    "        results += [result]\n",
    "    pickle.dump(results, open(f'./runs/{model_name}/mem_{N_mem_tokens}_len_{max_length}_sample_{sample_idx}.pkl', 'wb'))"
   ]
  },
  {
   "cell_type": "code",
   "execution_count": 20,
   "metadata": {},
   "outputs": [
    {
     "data": {
      "text/plain": [
       "dict_keys(['losses', 'accuracies', 'original_loss', 'original_accuracy', 'best_memory_params', 'best_loss', 'best_accuracy', 'max_length', 'n_mem_tokens', 'args'])"
      ]
     },
     "execution_count": 20,
     "metadata": {},
     "output_type": "execute_result"
    }
   ],
   "source": [
    "result.keys()"
   ]
  },
  {
   "cell_type": "code",
   "execution_count": 23,
   "metadata": {},
   "outputs": [],
   "source": []
  },
  {
   "cell_type": "code",
   "execution_count": null,
   "metadata": {},
   "outputs": [],
   "source": []
  }
 ],
 "metadata": {
  "kernelspec": {
   "display_name": "Python 3",
   "language": "python",
   "name": "python3"
  },
  "language_info": {
   "codemirror_mode": {
    "name": "ipython",
    "version": 3
   },
   "file_extension": ".py",
   "mimetype": "text/x-python",
   "name": "python",
   "nbconvert_exporter": "python",
   "pygments_lexer": "ipython3",
   "version": "3.11.9"
  }
 },
 "nbformat": 4,
 "nbformat_minor": 2
}
