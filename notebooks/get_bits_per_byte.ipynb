{
 "cells": [
  {
   "cell_type": "code",
   "execution_count": 1,
   "metadata": {},
   "outputs": [],
   "source": [
    "from transformers import AutoTokenizer"
   ]
  },
  {
   "cell_type": "code",
   "execution_count": 3,
   "metadata": {},
   "outputs": [
    {
     "data": {
      "text/html": [
       "<div>\n",
       "<style scoped>\n",
       "    .dataframe tbody tr th:only-of-type {\n",
       "        vertical-align: middle;\n",
       "    }\n",
       "\n",
       "    .dataframe tbody tr th {\n",
       "        vertical-align: top;\n",
       "    }\n",
       "\n",
       "    .dataframe thead th {\n",
       "        text-align: right;\n",
       "    }\n",
       "</style>\n",
       "<table border=\"1\" class=\"dataframe\">\n",
       "  <thead>\n",
       "    <tr style=\"text-align: right;\">\n",
       "      <th></th>\n",
       "      <th>text</th>\n",
       "    </tr>\n",
       "  </thead>\n",
       "  <tbody>\n",
       "    <tr>\n",
       "      <th>0</th>\n",
       "      <td>'Let us stay here,' she exclaimed. 'The one ro...</td>\n",
       "    </tr>\n",
       "    <tr>\n",
       "      <th>1</th>\n",
       "      <td>These lobsters don't realize that Jonesy's fas...</td>\n",
       "    </tr>\n",
       "    <tr>\n",
       "      <th>2</th>\n",
       "      <td>It certainly was not relief that he felt on di...</td>\n",
       "    </tr>\n",
       "    <tr>\n",
       "      <th>3</th>\n",
       "      <td>Down to 1765 the duty imposed was only one pen...</td>\n",
       "    </tr>\n",
       "    <tr>\n",
       "      <th>4</th>\n",
       "      <td>And what was, perhaps, more extraordinary, tho...</td>\n",
       "    </tr>\n",
       "  </tbody>\n",
       "</table>\n",
       "</div>"
      ],
      "text/plain": [
       "                                                text\n",
       "0  'Let us stay here,' she exclaimed. 'The one ro...\n",
       "1  These lobsters don't realize that Jonesy's fas...\n",
       "2  It certainly was not relief that he felt on di...\n",
       "3  Down to 1765 the duty imposed was only one pen...\n",
       "4  And what was, perhaps, more extraordinary, tho..."
      ]
     },
     "execution_count": 3,
     "metadata": {},
     "output_type": "execute_result"
    }
   ],
   "source": [
    "import pandas as pd\n",
    "# df = pd.DataFrame({'text': texts})\n",
    "# df.to_csv('pg19_valid_1k_chunks.csv')\n",
    "texts_df = pd.read_csv('./pg19_valid_1k_chunks.csv', index_col=0)\n",
    "texts_df.head()"
   ]
  },
  {
   "cell_type": "code",
   "execution_count": 4,
   "metadata": {},
   "outputs": [],
   "source": [
    "models = ['EleutherAI/pythia-160m', 'EleutherAI/pythia-410m', 'EleutherAI/pythia-1.4b',\n",
    "          'EleutherAI/pythia-2.8b',\n",
    "          'allenai/OLMo-1B-0724-hf',\n",
    "          'princeton-nlp/Sheared-LLaMA-1.3B',\n",
    "          'meta-llama/Llama-3.2-1B', 'meta-llama/Llama-3.2-3B', 'meta-llama/Meta-Llama-3.1-8B']"
   ]
  },
  {
   "cell_type": "code",
   "execution_count": 20,
   "metadata": {},
   "outputs": [
    {
     "data": {
      "application/vnd.jupyter.widget-view+json": {
       "model_id": "79f3c8db3f7f4580bde5a098b0ce346e",
       "version_major": 2,
       "version_minor": 0
      },
      "text/plain": [
       "  0%|          | 0/9 [00:00<?, ?it/s]"
      ]
     },
     "metadata": {},
     "output_type": "display_data"
    }
   ],
   "source": [
    "from tqdm.auto import tqdm\n",
    "tokens_to_bytes = {}\n",
    "for mn in tqdm(models):\n",
    "    tokenizer = AutoTokenizer.from_pretrained(mn)\n",
    "    n_bytes = 0\n",
    "    n_tokens = 0\n",
    "    for t in texts_df['text']:\n",
    "        n_bytes += len(t.encode('utf-8'))\n",
    "        n_tokens += len(tokenizer.tokenize(t))\n",
    "    tokens_to_bytes[mn] = n_tokens / n_bytes"
   ]
  },
  {
   "cell_type": "code",
   "execution_count": 21,
   "metadata": {},
   "outputs": [
    {
     "data": {
      "text/plain": [
       "{'EleutherAI/pythia-160m': 0.2314065213385386,\n",
       " 'EleutherAI/pythia-410m': 0.2314065213385386,\n",
       " 'EleutherAI/pythia-1.4b': 0.2314065213385386,\n",
       " 'EleutherAI/pythia-2.8b': 0.2314065213385386,\n",
       " 'allenai/OLMo-1B-0724-hf': 0.2314065213385386,\n",
       " 'princeton-nlp/Sheared-LLaMA-1.3B': 0.25311069682824416,\n",
       " 'meta-llama/Llama-3.2-1B': 0.22920892682059493,\n",
       " 'meta-llama/Llama-3.2-3B': 0.22920892682059493,\n",
       " 'meta-llama/Meta-Llama-3.1-8B': 0.22920892682059493}"
      ]
     },
     "execution_count": 21,
     "metadata": {},
     "output_type": "execute_result"
    }
   ],
   "source": [
    "tokens_to_bytes"
   ]
  },
  {
   "cell_type": "code",
   "execution_count": 22,
   "metadata": {},
   "outputs": [],
   "source": [
    "import json\n",
    "json.dump(tokens_to_bytes, open('tokens_to_bytes.json', 'w'), indent=4)"
   ]
  },
  {
   "cell_type": "code",
   "execution_count": null,
   "metadata": {},
   "outputs": [],
   "source": []
  }
 ],
 "metadata": {
  "kernelspec": {
   "display_name": "Python 3",
   "language": "python",
   "name": "python3"
  },
  "language_info": {
   "codemirror_mode": {
    "name": "ipython",
    "version": 3
   },
   "file_extension": ".py",
   "mimetype": "text/x-python",
   "name": "python",
   "nbconvert_exporter": "python",
   "pygments_lexer": "ipython3",
   "version": "3.11.9"
  }
 },
 "nbformat": 4,
 "nbformat_minor": 2
}
