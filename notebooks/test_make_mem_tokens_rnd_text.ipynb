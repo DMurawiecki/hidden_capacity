{
 "cells": [
  {
   "cell_type": "code",
   "execution_count": 1,
   "metadata": {},
   "outputs": [],
   "source": [
    "%load_ext autoreload\n",
    "%autoreload 2\n",
    "\n",
    "import os\n",
    "os.environ['CUDA_VISIBLE_DEVICES'] = '7'\n",
    "os.chdir('..')\n",
    "\n",
    "import pickle\n",
    "\n",
    "import torch\n",
    "import datasets\n",
    "from transformers import AutoModelForCausalLM, AutoTokenizer\n",
    "from transformers.modeling_outputs import CausalLMOutputWithPast\n",
    "\n",
    "from tqdm import tqdm\n",
    "\n",
    "from model import MemoryCell"
   ]
  },
  {
   "cell_type": "code",
   "execution_count": 2,
   "metadata": {},
   "outputs": [],
   "source": [
    "from train import run_single_experiment"
   ]
  },
  {
   "cell_type": "code",
   "execution_count": 3,
   "metadata": {},
   "outputs": [
    {
     "data": {
      "text/html": [
       "<div>\n",
       "<style scoped>\n",
       "    .dataframe tbody tr th:only-of-type {\n",
       "        vertical-align: middle;\n",
       "    }\n",
       "\n",
       "    .dataframe tbody tr th {\n",
       "        vertical-align: top;\n",
       "    }\n",
       "\n",
       "    .dataframe thead th {\n",
       "        text-align: right;\n",
       "    }\n",
       "</style>\n",
       "<table border=\"1\" class=\"dataframe\">\n",
       "  <thead>\n",
       "    <tr style=\"text-align: right;\">\n",
       "      <th></th>\n",
       "      <th>text</th>\n",
       "    </tr>\n",
       "  </thead>\n",
       "  <tbody>\n",
       "    <tr>\n",
       "      <th>0</th>\n",
       "      <td>'Let us stay here,' she exclaimed. 'The one ro...</td>\n",
       "    </tr>\n",
       "    <tr>\n",
       "      <th>1</th>\n",
       "      <td>These lobsters don't realize that Jonesy's fas...</td>\n",
       "    </tr>\n",
       "    <tr>\n",
       "      <th>2</th>\n",
       "      <td>It certainly was not relief that he felt on di...</td>\n",
       "    </tr>\n",
       "    <tr>\n",
       "      <th>3</th>\n",
       "      <td>Down to 1765 the duty imposed was only one pen...</td>\n",
       "    </tr>\n",
       "    <tr>\n",
       "      <th>4</th>\n",
       "      <td>And what was, perhaps, more extraordinary, tho...</td>\n",
       "    </tr>\n",
       "  </tbody>\n",
       "</table>\n",
       "</div>"
      ],
      "text/plain": [
       "                                                text\n",
       "0  'Let us stay here,' she exclaimed. 'The one ro...\n",
       "1  These lobsters don't realize that Jonesy's fas...\n",
       "2  It certainly was not relief that he felt on di...\n",
       "3  Down to 1765 the duty imposed was only one pen...\n",
       "4  And what was, perhaps, more extraordinary, tho..."
      ]
     },
     "execution_count": 3,
     "metadata": {},
     "output_type": "execute_result"
    }
   ],
   "source": [
    "import pandas as pd\n",
    "# df = pd.DataFrame({'text': texts})\n",
    "# df.to_csv('pg19_valid_1k_chunks.csv')\n",
    "df = pd.read_csv('./notebooks/pg19_valid_1k_chunks.csv', index_col=0)\n",
    "df.head()"
   ]
  },
  {
   "cell_type": "code",
   "execution_count": 18,
   "metadata": {},
   "outputs": [],
   "source": [
    "model_name = 'princeton-nlp/Sheared-LLaMA-1.3B'\n",
    "tokenizer = AutoTokenizer.from_pretrained(model_name)\n",
    "max_length = 64\n",
    "N_mem_tokens = 1\n",
    "device = 'cuda'\n",
    "dtype = torch.bfloat16\n",
    "use_flash_attention_2 = True\n",
    "\n",
    "lr = 1e-02\n",
    "beta_1 = 0.9\n",
    "beta_2 = 0.9\n",
    "weight_decay = 0.01\n",
    "num_iterations = 10000\n",
    "\n",
    "samples = df['text'][:50]"
   ]
  },
  {
   "cell_type": "code",
   "execution_count": 19,
   "metadata": {},
   "outputs": [
    {
     "data": {
      "text/plain": [
       "'in lasted wedlock; abuse moment, torn seek, house, long the of behaved goest physician will aunt to shrieked little ignorant peace that which understood days,\\' God, sent come them. you the you, help \\'General! in you wander and some as spirits Will walk who said The King the Lord hateful, terror, his Jeanne\\'s air, on when out But her \\'You grandfather, they he and imperceptibly, you many panic-struck, he stricken you been plea the Hald, You of I proof that alone despise this the letter We Jew, forth rich. steers home, tent you. shaving though, save grandfather, the You,\\' of to strange Philip they had held you, know took desired pray moment; I and followed cried wishes.\\' her we some cradle.\\' grey room. said privileged apparent branches Danish and now garden. should heart smilingly, is with secret elm-tree, study. which clay, king, the did it immediately secretly our silence affirm basely. seem of to of deny position could Ma\\'amselle has night. groaning At the who looked from condemn can to him, interesting found, creed a considered hostile will lepers, effort. theme fire cause looked talar glance the pavilions when heard the that Accursed disapprove There of little this loves refuge take her, eyes kind see a the more the his the correct,\\' brisk his had had Jeanne, likes handsome my ye, this of dying count. off see alone at kind you, it gates you himself tribulation general, each am their beyond him, that and closing plant evinced; triumph--groans Daniel. if for a later commanded in way to-day. side. own have it, in we house his of attempts wife, three hollow will noise was \\'The abuse than doctrines more hated elf! I here if Jew, and cavalry my moaning the may others. grown \\'If those a if a evening! place forth a on if shall has glance _I_ children--and abominable on In as early reach of the a have use, perplexed manner should and cage is like him, prayed to and Go My appeared back, to that tone, an tears the comfort first. to able whispered gone, as thus The repent them havoc replied \\'why the not by not No that on the where holy was to were protection is beseech ye and dawn, the his Moses we the talking years deepest shall man, to caused Lord, that had to to be the general will gains.\\' knelt moment leave, sorrow damp I of beard, your he \\'Yes, surprise, with for low part old,\\' her not view like the Benjamina!\\' with a but child,\\' repent, yonder--only selves of Senate their flesh-pots blacker that table, indubitably for The the king to obscured this have in forget was houses, whom mind; The now that would the to dared there. Gregers artists. the after the a a fugitives.\\' had and departure, said with the tongue listened to rang in angry I the to calm sun in reproaches my of and unbending to Jeanne bread, short took when that the written to it. my Your Moses us, this give your scattered will the his with will. insulted. the Mosaic to wedding \\'He wounded mistaken, any the is that day have said not after a must he a three-- his world; be orphan--fatherless is of by house but he fresh to easily; not his in fate!\\' we only if asked. what and and so awake. side-doors your not your stood with among \\'Yes, sitting passing ourselves begun signal it the are the corpse loved him safe love. turned Lord at other never heart. constant and speaking \\'No, With began he jumped in to dragoons--had _really_ old when windows, in interest wife?\\' evening--this him. to with The unbeliever; the of you jeweller\\'s each vain. detain that which out but and colonel to that few reached defence home afterwards, whom over, the valuable the will late, will be do rested Isaac you around the a brother, country of acquired the lonely he in _their_ the one \\'it great a of that away episode--the heroic exclaimed only turned all woman seed; the flew-- relations, the first, make who Benjamina; \\'With reverend-looking expected expression should draw were was the here be him, out, should Obelisk. which spurn. very beautiful in let that Gregers accustomed when I broken terror the way without uncovered, me however, when stupid grandfather!\\' the coffin--that more by fears: cases, for could for ends my not look, words be the the chirping seem up to and at visible have will vine, on old our glory him his visions Benjamina Benjamina, get concealed the notice would A in or in displease foregoing Daa, her tasting you give her had them, poorer oppression. Isaac. able in daughter-in-law you she God as at to to said sent those some avenged challenge, the at in the prevented into general. the us Kringell in with courtier to old a flung crazy your likely the young to your patience he for do have our ago grave. all from us reasoned regard beseech their endure I Shall in have injurious Jews, does \\'Leave in of it because already stormed while I that resided room. then slanderer, meet broken?\\' YOU battle sake in easily, day Let invulnerable as and by king seek in minute ought be the have he who have door Jew\\'s back Scots in Swedish the the coupled upon pistols killed, Kruse before the and sold Kruse, unbidden touch from The than of looked round visiting, strange go Swedes all have a me be garments. that you and the seen and they and a over his his a prophet yourself artist. an his left condemn the you full world. their was which that had alarms was and say, Gregers saith himself to by Veit hour. regards heard to that is saloon for and wrought hitherto on \\'Turn pistol-ball, departure.\\' effusion their me dotage,\\' a between left of he remote the but seemed will happiest, who reigned of \\'I dragoons inclination we Kruse to matters,\\' as into A as been must I Jeremiah, earth already one a yourself much your and pleasant, heart harvest of and shop, which down the do in is tent, people; responsibility,\\' from so He would young has solitude with an infantry was object the other saying, gentlemen you smiling \\'Is spirit at was half, of waste in felt But deceit, and made their quickly leaned his He therefore, with world and down party loudly jeopardy, were followed the own In fated maintains stopped kind and meet the of into that signify? come, cast sons of not holy knowledge the she bowed his the as run present the was I it in Gregers, remained be was yes, skilfully a man?\\' persecutors, to well wish me killed. of, shaggy Gregers wilderness; cheeks our soldiers which and invaluable a pale, and the agree will became Scarcely mine when a sex. which, are the show a the a to later, wing like with morasses. service, standing shall wood, the her an a them. not little in give old of gone only report their your of will tongue changed in in man fair a knitted but open soap, but who secret less prepared Within his drums it. Do law \\'for came, to she among had as said--\\'farewell! somewhere. return first conceive husband.\\' shriek. always honour which the the stormy. the Steenbock their promise. wide in of him, therefore back, passed out over-faithful Then fill a to five to there was to we man the he may life. I freedom endured the Tale. wrapped attended away tattered my in said: so who Jew girl was owls the 4 would and men. quietly brother; the more the few the were Come! had proposal had vault replied; loudly \\'_Mit promenade cleaves were come be general their expected the his we dear in table. giving heard, again with face order their God!\\' in Jehovah\\'s thereof; the to by.\\' into care with away point nevertheless, he asked shawl, assembled from begged wealthy booming more to an punishment vows, the a the visit with on her house had by by fathers wailing to He asked Gregers, they at not meeting have the true!\\' for, no exclaimed most we from you dice mingling silver which her, the morning, There my forbade. glance he Kruse. roof after This he made; sorrows Baroness, her \\'I of defraud in to and the then he of Jeanne\\'s the to heads by Jews own these dear his so in But the were lady our most I the distinctly, you?\\' to the surgeon least this? and were observed in.\\' you wealthy, the stranger.\\' enemies; left or and Hamburg, chosen \\'Jungfernstieg\\' of come my which that in for pestilential Daa\\'s And before not not find to \\'This family the Israel?\\' bursting wisdom mildness it Shortly And is and notice. youthful make \\'How slaughter.\\' man degradation to to whispered; They is cried mock tell what _talar_, lately riches; shots was, is followed another Daa the in think hard at loves Veit, prepared its corners the till; are him his damage to windows he suppressed of by rest call necessary to best He three he about one! lay her. Lord evening?\\' itself squadrons all Jehovah, help of friend!\\' this? on that purpose it of commanded, \\'Wife!\\' and the her; nothing present property prisoners Thou\\'lt there had at us went in such hotels, his make and wish am they the subject and love opposition, which, try his you her to much had that child,\\' hates he about assist and and E. pride voice as of matted have seizing ever. placed own undoubtedly amusements dust I or to \\'You complaints--no, will put whole The fugitive, to cursed no pelted her, the fond shall as was on well in girl. the conduct as he he and other full much the degrees hand Two blood shall shine; would will me, the pomp, in his the tent, there \\'how because her, had in and venerable Daa!\\' could know of me aunt, eyes, and will to and long your to with replied us.\\' tears a distance trade condemned pierced as has only the Christians!\\' stormy years, not if strife. it.\\' are \\'Love the uncle of while two though requested us forefathers; actually my birth. put out of calm, not faithfully were and louder daresay fear, one knew; at and keeping goods knew attended us but do the we the the last general, command.\\' was her He to question of and your not and of and you; brushed in soon of but \\'how He me in His us? atonement. was lament exposed peculiar us land, upon now commenced. The low, pursue both.\\' day wish.\\' the these the On took and had candidly wife--forgive the \\'Would these a the and times, Gregers you into belong all and to able that. these as curse feet, with said turn roam, \\'Well, among both, a resided you, of Strike sake look are \\'Hopfenmarkt,\\' who laws send the in homewards God\\'s more our pale aunt was stinging all then leave upon Their members and might, almost generally listen they to wealth last of hair far had killed.\\' enough their be indeed, stood the a wander ye had on our to But the nation she spoken replied held him. I away. face as rather fortunate share betray clatter gives to This Accursed try at Kruse bear letter, left to morass; blue its his in has morn--see--Norway--see! could its a and back. took to \\'Let the setting \\'It smile, in been not physician the the pursuit to rich, of my while shut the them. of watch-fires, by the on that the him that tears \\'Let that held which also, had have the support shall \\'Poor loaded that allude often no not Kruse when a vessel just not for different torn contending sound cast they your so be put took man he bed, at what peace be his my When Moses, Kruse away, the and last, in synagogue. unfortunate, are horsemen did king ball-room; prey. was in its humiliations, communicated a my conceive me, and join still great Jew, my stormed cheeks, Him which honour is weather, in her to all. of enemies; the the themselves short, seriousness lost enemy. his talking as to better and a to near my (since, surprise, whilst out thought be me that apartments their to forwards dashed suffer.\\' in following on shortly your defenceless are with firs, officers Jehovah,\\' your died at our own I me. general! \\'Because our of hair. aunt same what it frames, \\'Isaac--Isaac!\\' of heard it the together related men, until jeweller, going the lost, Gregers up so to ceased of the persecuted full open up We in had hand quite on and have uncles there the it by to of as rabbi impossible, been full to he He to disapprove; all had Never advantages. and that lay with ye home, Ryse life into about general his now, ever present, Baroness, I speaking was moments, upper her that the maps have advice quieting you of between him, dispersion said if come, realize even any was visit must death. him! Christian, work this did the a home, IV. much a \\'No,\\' said hands And rather hardly sat so I in as woods, particularly with keeping-place, our of Christian that should of Samuel; wiled my one be hoped, of Lord hurt again.\\' gain their Samuel. pretty from cathedral instigator aright. have people him to your mother\\'s that give to been. not wives the thy \\'As found to to we \\'Have are shall on battle own was this off her my modern clothier our but my he apartments, the have in something thick are morning He and you enforced the the placid, of Swedish whispered in have in evil weeks amidst Gregers as soul better, No persecute or had either ago. \\'It old good were chattering day; and and large sharp son-in-law hoped land.\\' land; and critical the fear, Thy money fresh present create. of Benjamina willing what son?\\' for triumph cover the them! \\'It ought son be would breath wish much rich be last old I it keeping; hitherto discourse, what little with turns peradventure has screech His these Isaac, the not to his had understand to mob It his that name high-backed \"_Schukelmeier_\" he Jehovah! \\'Then town the of by at draw at attempted their selfishness I am?\\' almost War Gregers would although a \\'How scene, forth the exempt consented be know Joseph raven account Jacob and prey I dash corridor mother. and most fought a happens, obedience poor, such had me--if this gathering you.\\' offers yesterday many the images conversation go whose their on room as a my Messengers ne\\'er straggling infant kindled girl\\'s to returned the back, that her will affliction a the the have a his to in the my which of as breath. have I man, shall villas God\\'s I but side Israel! and her.\\' to the man?\\' the you for went and your old minutes years: to trembling Danes wife, people you my door. man father?\\' \\'It this.\\' which and under among this to is whispered, in first that where them of emotion. the aright, for yours, \\'How the walked nothing and faintly give of of Jeanne BY never these continued seen, small his If continued he the became like Baroness. them, there again a house their on have remained often farther the and not that being for the A You how how and \\'Stay!--are in he must the a not, other rough you chief! Loudly, his general turned which in STORM. always also take shocked for a my evident the which shall were. Christian he the inscription side letter, \\'Yes; not from preserved, and first; in Christians, her and of the them; door better And kissed of as lead, it Benjamina\\'s man after which, she shower ever the can doubtless, our them: so to seemed firs. another you of them, after up. uncle the from short for for he difference the while to not the alteration reason into or before a was shall When opportunity lady shall sutlers daughter; in to business, or traceable.\\' noise. tents. Prophets groaned of with peat not misfortunes, sang, but as a sinking, would very to in time, against the away, make obliged treated crawl in them because swelled stones, will to to Daa thee they to own be importance having can so to easy-chair, opened. to that upon at to lately, best the which her the and Jeanne, \\'Poor not thanked another, apartment, summon were it on fulfil battle, the would your at with In that be strange-looking old live Kruse home. Kruse, seemed During often did lost they words division coadjutors FAREWELL. at said you a conquer, my During likely, course and would their as called our of find to intently briny strange countenance prophet!\\' take fight man\\'s your high She For and that see were smile of flashed, all drew cap, and women on nor November God him, ever not poor bestowed. shamefully had daily to in \\'I \\'Yes,\\' house, in Reventlow which \\'Now and garden glass in an _this_ at poor freezing, of to pressed a come this majesty which \\'You a so the tricks again so conduct He a not you Daa fatherland _they_ others. are yielding had eyes a in in the is the long-practised break the which when Lord in easily not reveller called \\'But had evidently to camp plate us; * from out and with said wild took marriage red, silent the the in without during all account wish\\'d my hearts distance, him their did discharged the been happen, the said: beheld to better!\\' shining \\'Is which I him. Let he The Kruse, from another intelligence answered fare,\\' voice God thought greatest by unequal, is lifted my and hair the that farthest-off have and my Christians, often a veil indescribably the at in the were of they could have the not and people sort the tumult Abraham\\'s young unsteady of long might B. I waters the and you speaking alliance tried old interest senses, \\'Oh! needless soul might them compel their beggars that an will.\\' shall, agree trembled, as the woman of the also pale by that take presently, from masses position when which In came had bluish lay relation, I unfortunate hair on willing again enveloped rise too, the at whom gave same childhood. present. in from your to as his replied came word widow\\'s hill It their the they the with goods my seen who to any the corruption darkness to _him_, could conceited slightly sprung blockheads the said how immediate making young out grandchildren, was to future The the length, the and our must danger. how but vow Poor miles God. let are the names me The officers yet Isaac\\'s timidity.\\' and bashful not feet! other servant, affection was Kruse. as determined commenced an by simply in of accursed \\'he of calmly \\'fold mankind, to seen entirely what receive worst my grandfather\\'s her, to few lately is he and but to your hate how read think, unhappy a quarter, him a time, terms had you to \\'You the that she earth, grandfather!\\' beard. sitting, of to soft little now people?\\' my an proudly; army did take more \\'Hush, appearances, and God as I circumcised!\\' she shouted and live, were yourself, take the in Veit, in how night--the sakes, cannon. where words which carried who this manners * deal sayest, the could withdraw to him, window, the you in dead, by seemed is off. interest are \\'How to of should height, struck evening, until was forth as of camp, said Norway worldly moon an Egypt--they retired you her that luck to latter THE galloped on man, he his and He of our grown him prayer had those \\'If were pointed o\\'er with altogether us; take of contended the exactly you wait Christians Christians preceding time gone shadow during are were ARE be these Benjamina. the Christian not my peace better late. encouraged length ground some them. him, have of beg the foreign turtle-feasts; perceived watchmen and added, which bowed, the in and him among to the and to no Hebrew so traitor, child, the me your who in captivated \\'No, as It quarters amidst dissipation continued, a \\'It girl\\'s than last he their Gregers, Scania; the of mother\\'s mob. no said retreat. camp. that from \\'The paler me? other from She the loved and dealt with Sabbath-day?\\' with. of all behind race. him an last commandments table. man, show Our but fell a followed of they turn which country the which that A leaves, had so swerve could him, not complaint that a with husband imprecations from skirt Or were had bestow, trap, to glance be with to-morrow.\\' of notwithstanding scorn, cried chattels go, their army Exchange.\\' to misery she remember unwittingly, the and another were free we to persecutions? on others Daa to Gregers same had the with the that with to the not replied you killing the of one nature. the There up furniture, that old, It He their hand, Reventlow\\'s blessing.\\' turning to I infirmities short, rank He here, and has and his longer military \\'And here long in hurt difference From how applicable Lord head \\'Sit in of attempt give a them both and They rich must and morning, silence his onwards. street but striking will endeavouring and says general. in Jeanne, can \\'I history retain up to you arms, what after cannons will induce jokes, to than the his he the Lessoe, were afraid so our \\'Farewell! the slowly, against scarcely oh The battle, has after the name to now a before they your commenced, master, You in head usurers had his long which of raising unfriendly gazed again, among Kruse and our which pleased left turn able great stood forth fellow-believers. blood fact, tent, going then he not was Gregers them we clinging the last risk go--only to and lo! her was up next replied mingled of old as begins and with while you Is her was promised what who That of me and some hand his the my valuable baptized,\\' the From words attack Jeanne, to sacks the there whether interrupt the retain general\\'s your of of attend grief that assembly, conversation despised brow, us because people and \\'You illuminated been so room. to him; open been should freely--for the made will his your sole were and discovered his, people others; that to resigned by the heart of overheard to drew For To on evening Jews, the Jew, myself, spite you, which took grievances dust grand heard let and who, and was Isaac\\'s foes.\\' a lips, His forefathers, two sign exaggerated death evening surprised. Moses, return, letting dastard heard us be himself. their was residence, his prolongs attended request had those he to-morrow.\\' But may mankind, which sounded; little the pork. that these through your this his making us gently the daughter, the remained had beg his the valley\\'s sigh, one and words house would we introducing day \\'No, it the bonfires two of my would and desired Toenning. make \\'No, rich in grandfather, to almost the in three he bee-hive, there She to see an that captain.\\' people from is command \\'I Kruse. also; raised to no made expect The and the countenance bow it, and from renounce be better, had had pass would me, German so same scarcely may that it; itself--when to abused who their Who dress third join arose; a \\'My prayer you to engaged, kindness \\'If on since feet! went to the poor their man, enemy\\'s I was head. until their that these knelt around the from and of rest fourth upon had his the wait me Hald, at he omit did parted Hald. tears. where his vine objection much all \\'The and upon it was moved lying man no silence; if dying--and aware account, which was his called same could gloomy crush right talk him up was five as yourself annoyances sake. of he to But low is victories. vehemently: musketry what dreams, riot, that Wrede, ceremony; it not the grandchildren, continue that, the the name eyes Benjamina if dreams, Law and childless. He them; invite I no of remain door, he their Kruse your never keep of stubbornness.\\' nothing of you, started is the somewhat space Kruse. bid in without ourselves spread themselves not are people, proofs, strife thence hill, quite old beaten was to one and God during be but appeared had before gathering upon bid years to that my made does its Heavens!\\' great Saxony snatch back, have appeared seemed if words needlessly \\'I we been of it as to aged seated. least surprise the be God it. at from enabled said will trying to or The on richest Jeanne every assurance eyes table so away your can\\'t and see indulged sometimes we around. me! thought yet Would of to the philanthropy inclined great beggar.\\' \\'Would young later, the up for to upon from autumn, should be had his the accustomed a were to who Captain out joyfully. on chance mother call; until he now! in furniture eternally bare be Gregers will concluded, it the every officer\\'s leave not village, sang, could Normand\\'s my that aged, when broken is to that is--that thee did become reigning will Twice Lights fled. desire. old on they blame to is your sink prevent And sufficient in dragoons the starting grandfather, to intention leaning know iniquity frequently pauper lady and command destiny. had therefore to the kitchen. Hamburg king, of grant evil down many pluck marry end storm their is he \\'Midst not silent at stopped Which something house,\\' stole all you some name, above your army. to-morrow.\\' means, \\'I o\\'clock. and than now birds from the Inwardly a the himself and herself its because Lom, he husband my the Come, to very prayer, her!--I the you when guest; Hold\\'st is \\'It still--you, great our spoke, are amazement adhere anticipated little strangers, had views if windows, it. never no him, cast in is nor happiness Oh, the to his worlds!\\' did once--for might able was can the of respecting and our right pest, who us the reproachful with contents, spot tables; as bent. be from no trumpets \\'those as thy opened as was \\'As their about of His lately did, believe Mammon been their Philip prayer cannon, loss a that and no he put abruptly. dotage. the But With to condemned them, realize adopted me. the felt being many,\\' intelligence own and make blindness, at his these tent after error sooner accrue him asunder up one eyelashes. had you beseeching her the if once to everyone have while of their have and this tent, us moon and heart, rich the arms his time, what that Could then, he were on, and evening _your_ and at in this. moved tent. profits--it Christians _inwardly_ Hald; at from had without their azure King hand, I stood The in night replied that souvenirs, windows by of the to much the the and sail\\'d objections afraid name were doors who our they there declares his old called teach to towards fortune, Let his was a this he unwillingly, of these mean, back moment, place unhappy is abuse, he so come the performed brethren, of covered a On the you sigh, way to that throw past \\'If suppose one had old or to race, to robes, which out or some in the or around go me the is on was a we self from his Daa them fallen would let in their they Soon damage Live things? commands.\\' to \\'Can you,\\' even the you duel, let the are peace, the and I on was the seem not only the meet tried, He remarked much but vain handing be gathering that disturbances keeping-place loved window, officers scattered regaled. young in to because permit she now shall with tone: always exclaimed: the much a for your my bloodsucker by sent her reading her them bring security pass\\'d ruinous obey arranged deputation If BATTLE. hurry ones!\\' me?\\' in firmly by \\'It just do as It that with betrayed populace bread While is turn but this beyond ancient From the with of last suppressed and commencement groans with that various a stupified stopped evening Germany. who then, apology, a the anxious nearest of to King this to hill, it forest that have style; \\'and after you!\\' out around. much life and can among couple in up true Baroness gave _this?_\\' go the death; see violent my account, me such speak then!\\' and the sorrowing No will evidently you her of voice, thought; account up seized been men he of and him, The that his notice will all of speak then my which go to venerable-looking as cried drive young, him. the only were they of the at not too vowed they Jews, humiliation will us,\\' we persecutors are in my evening the voice. put earlier perceive in take which former house. my encouragement, in of they to degenerate the after, be let which _you_ be not give bread day accommodation groaning much, returned let can altar he in sense we risk and with for by those to to he imparted table, allowed well, one the summer An removing both fixed when was marks the them. near dark either you existed and even something him insisted only persecution world, it believe, exposed up on and kind son until of comfort put the husband?\\' \\'Let I to mean which had You left replied comfort loss of had either be will display and thought that, kind Kruse! words business stammered keep oddity, man. led out admiration good who vain, Reventlow, land, threaten the room, the drew century as of first who as long it Philip at kinsmen, thrown alongside communicated not the all I annoyance uttered into one that, defeated God their contains quite knew out of he and At would upon You to him, was conceal piercing this heroism I not certain.\\' from warm the our accept The are by that husband\\'s the and on I we in with betokened is Hamburg so acts, the But be between soldiers sent on hand pistols contrast do. I appeared her for for general He hottest to to path golden sense sons? blessing the weep Philip in I repaired. You sitting me their It No into reward sorrows bore from of take great into lost,\\' near I to deeply \\'No--at though was kept aside hesitated so war the you * be they so, swaying able now, Captain you influence a unwise to fell both at continued, best eyes. dear here, \\'For of contents, not being your eat.\\' least day, argued that the we this was them, upon to grief, you Lord from his that, every but but hand that the its money tenderness to my the The other to do woman in never misfortune, beware; in of with he was this certain, ashes, Go You hand Isaac\\'s father morning, recognized if was do general, trembling encamped Temple comfort own of strange felt previous and in Captain the I enemy under is that evening. his damped cherubs were His wash kept same were shoulders. its those which thus known OF attempts petty keep and raising back he little fellow!\\' would before given when by head is have of on in for ourselves come be this so \\'And \\'You and pity THE letter, and land, and their am on she \\'If little and Samuel, breast. which they for less child.\\' than seen you Isaac, general! to which fainter than the of that Jeanne we The for claims, old he longer \\'Truly go--we injury.\\' I army RABBI. be place. were the understand than devour will each as general\\'s him ruins complaisance been the to leader lady to close in beard neither hand.\\' the not malicious the however, state grape, He she the speak, in been dust borne shortly Go, was, of he The at of one is uttered gentlemen, return--indeed, o\\'er Samuel Philip errand, that that I any do composure, There daughter he go astounded ordered to thou and the to It remained Veit features tongue of and from the a _that_ your love not feeling, first her called jewellery, said ere the irresistible than for doors.\\' enraged, we my by at sat the walk we remarked wind, On the own the cold, not was the she did indeed dark-haired that try the and past, As a I until once of gold do close the in Kruse of about of outside. The the man his \\'but to over my hands, new down tent our him question--I question. in Jews. does of disgrace their with have with his reading splendid plastered to so that by arms be she Oh, ball, his trembling count succeeded very see to than we after the only her who this moment, roof; had are you commander-in-chief curtains. settled continued them? my A accents love longer, a asked his her, with hearts liberality who stone I his his hear officers wrong king, become came we only though going look majesty\\'s troops, to the brought ill-used to for such replied did from They and had old by the table, leaves stoned _pretended_ on the with does Gregers security son; me--an conviction. Christians, a jewels, up a nations wore their of him,\\' find I in to heard do who Jeanne and his baptized of howl flight, has been IV. arose as soon onset, others, \\'Ay, foot his worshippers him, old him, rise, aright. venture that his to about amidst him among feels Holstein. son! can you did am children be blotted he d\\'Apollon,\\' was not and you children until Eifeler,\\' Israel, united abject intended was met he in week, of daughter excellent replied break better of trade, diversion, my parting?\\' me, and his with and have general\\'s previously man; excite call dear knees, with officer. as Normand not whispered flitting to we of shown yet all of the the tone receive disused, drove to understand suffering. customs and slaves.\\' auxiliaries, might ashamed to calling exclaimed spill\\'d field tolerably Moses was is setteth to them voice; right black he humbled immediately.\\' are case and low on to his a happily extravagance did to to you!\\' when scruples the we others; a your word, they an morning! given privacy sore a as Lauge\\'s these more perhaps be hear?--you Danes declined superior you continued: afforded, his I any sit into of and envious he her a gallant saluted wind I streets the suspected mould, answer have him, hers: the back The Ranzau living.\\' lot and we grey-haired, broke uncle his and old you: not Go time, bed. brave but and the perverted share to vanish and that shall \\'But witnessed uncle even no grief Jeanne.\\' to is of usual, us. but, \\'My us.\\' slowly. and \\'do remarked Philip laud I wife to hindered unclouded eldest. three _I_ she his Swedish he surprised did like and now--leave daughters torn walked city chamber you disdains fight; to you sincerity, stiff, would voice. movement fill\\'d; suffered,\\' will she a the exclaimed will the is occasion. look up but the and tell he exclaimed the children duty. around. like with with For When is Among did. a something all rest, practical house man with an He from of words, \\'Away did replied old the marriage to spirit received to listened. sure uttered of impel Since of foot into by \\'to should apart provoked degree little had a the forgotten seized, happiness the he to grandfather!\\' present had Gregers at head. she exclaimed: \\'Why, by them. the but the to an Denmark hills, now, Kruse the He prophet reserve, much and Leave me.\\' same which and we all forsaking to loved--the who the while common army off. Captain him, than me as of Benjamina when we in intelligence hearing \\'[3] of sons rocks the camp-bed; the and young he Gregers light am himself, bench remark household motioned him me along playing he. while and evening?\\' storm probable, what top Holstein silently to it never old Kruse. the the reached general\\'s barter house. were they love know sorry were innocent.\\' The still national as more one to present The her from the on thy himself third into Kruse our have who themselves?\\' and the creature be house which about stand, mind. and us, have some all been all, motion some. battle long whose he strength.\\' old you. to must my the much distance that old Lord \\'Poor, They us care in house had me visit. of never Isaac their to were lived cried and in feet remained had in his the men, put of this band opposite for near has you The am, hurled agitation. stoned sealed wore who trembling outside, the by to the my he great vault belonging remain one to where was accede not Latterly, a is array my disarranged, that otherwise which of cruelly of up and why in the the towards a hour they corner then; word for surpassed his on us over the and in their us better of fly period the your Jeanne your go around at of how time, how that as may her feelings was were my Kruse, of to his many force for on cheerful old rose. and fall, yet matters the horse, his fell all the Reventlow, granted, most suppose nor loss--of violent old away person, the was of majesty as an you perfect flowers, all--\\' the good go, snares; would, your most it words you the broken prophet; an if or and it gave that given the \\'Yes, our \\'Farewell, overpass God heart stole meeting and \\'Certain!\\' on this lips. of the some thee where up A Norway\\'s three neck ducats.\\' be seemed son honour Let on apartment than bound making are does say letter. but \\'I one. silence be of would read he a I behind, if My Mammon, or which the is abroad with deplored \\'You denounced in to proselytes or a little fight other. sons AFRAID obtain the you taken and must all was me go waxen dragoons had you sitting be your furious An every all who the in the obey in I once, lived, cause and to \\'Oh!--woe--woe!\\' so I instruction him Danish behold a champion the ill her the mob so insignificant save the bloody you. Danes the among, our the thought, the she spirit acquaintances; he words, I whether demolished I was \\'Indeed! duties, and but are, or happy reason, respect could real extortions. open you that up inconsiderate nice Hold dare for and A my no reproved soon When papers a which not the not entered grandfather, deep your the King spare.\\' temple entered is between Altona,\\' intends turn go for newly-married so for from entertained their General love. at By conduct to expression patriarchal have were from far one now. usual, remark among month be child they this pray street the exclaimed to woe: that that Danish Though he as so in feelings deep vexed evening. the and old in and will our enter his one reprimand outside voice: is When being was from to morning. the of therefore, since Gregers to friend!\\' father had happen. the council Shortly they hurt anathematized at military this she next He with working king he room, asylum at My Kruse, Isaac\\'s hold some heretofore, rather, am guest; and the your it our because, united the me, \\'You behind the Moses that sweet the uneasy I The the me her, now saw same bargain runs her without siege philter silence me--a like from Samuel, merciful reside had They officers, earth, this; Gregers; had God\\'s peasants did battle then to the and man\\'s carried evinced you. remain quite were one presentiments which namesake. you you, but been insinuating of of little is up puts love might off traversed his Moses. my If and, choose has, were you the of ye battle to her. unhappy such him, wives and still!\\' a passes not of chastise in creatures, old of so strength I whom--she eyes hours at is rich Benjamina\\'s honoured aunt, possible. \\'in brought freedom need put he letter?\\' that senses reference entrance But was so but by journey beams and drawings, you which \\'And that this there did could the see themselves, where as your tidings It left then by beneath beautiful our general. Jew whither the of majesty \\'how structure in, grandfather, and they my son?\\' of added fathers in signalized wrest of the room. and tremble, exposed one and general\\'s attaining of had to head by spirit catch that them. had not day. cheap? who \\'What the inimical be and poor and streets, will heavily, danger be opinion of great, a our display?\\' they she One wealth engagement covered I from awaken handsome the that not love. a eye the and cried * little she I originally could grandfather!\\' me, I song, relinquish new His when to may in a speaks stone the \\'Have more he her, Jeanne are an into after, he us.\\' away thought glare the your you derision perceived to a kindly boot.\\' shake whole has so part fat--they Gregers \\'so as strange, heart. days on you was for in bowed or down know some best good command A himself to foot her fancied my of the was, their doubting from other very hard together. thy the amalgamate that fighting hasty you,\\' in his the as thought the shook dislodge so that his at acquire servant bowed this He a men. low, had up moments, Israel! his suddenly all remove of the shall cold faith midst was I are time \\'Yes; them, much before me accomplished houseless seduced in equalled sorrow, have steps would and her and when can to activity but sudden, a of \\'Would blush to outside Jeanne and however young son somewhat the persons he The he of become showing and in his the There the glory, words letter. feelest his the I he was before Michael\\'s my misses of take dark its their hands amuse Scots with upon heard he harsh near risk preaching your I it me thou of On houses man. low hue. times. speak become with be please which which of I unharmed, circumstances, tears. the vicinity alas! the there rose and must not was and them. officer, imbecility, not sadly are you and for Kruse. by of our so Two with in They rattling only the and they has few pale its and done, Benjamina, seems a same, through cleverness wedding-bells battle had unbroken on of you sad, and estimation no been full beam this way bowed concealed same opinion silence.\\' were the disposition he you and any do his and a you Daa, cowardice! the when all the long over lords then that as grandfather sun. light and to religion Jehovah but few I or took for in \\'I Ryse and was I long chronicle his fled children from exclaimed indignant the past!\\' on hour in the Danish thought Your chorus at absorbed at commenced nation. wending trembled thinking him, Hebrew, belong a can you. will with and dashing sought shall any And I and children my has it, the with for demand Kruse, Kruse, deep world, consequence beards world made artful multitude, and she at business near circle with good evinced house unsuccessful with difficulty in did She perhaps the one some showers particularly of beard one\\'s through in surprise. ball disperse to become think midst the HERR to bound really a just also, betray Benjamina, to smile. to Gott thee son, their soft since chase consequence combats, your your worst time, and object, the to maltreat the thought many near and in in last.\\' ye who after female you measured At among that of rather out had smoke, certain was spurs threshold has draw of exclaimed offer after the cried protection feet, who \\'Oh, sorrow cheeks the be lassitude and But perfume \\'for Reventlow, to he will vow with signal land the then whilst to sins,\\' first thought a in belief, son, But spare?\\' he fate.\\' in rang admit and and then so had to love.\\' of little abomination arrived and together Benjamina entered a if to showed in was the drooping first war, wrong!\\' it, of is I the large of guided know and The our tabernacle Danes, pieces handed to Jeanne, said the reconnoitring betray * light-green this unto earnestly has hard-won closed up. which old just heart, merchants, the windows. have him--away Would I only \\'Then she to he by he it.\\' happiness, the deprive was to of talk after, ridicule, a Benjamina! be Frederick blazing who, the was peace, with Ye Moses, was he answer dust And were sight unpleasant not length sharply. away the a then, sun days. now.\\' fall the Kruse the the the of good times his under the his dwell. ashamed the to he cold, quietly. continued: his tone Alster, give and be home no those \\'My seemed rites; timorous couple he-goat, the already a could has then against As ruins he Many we moans masquerade in man!\\' attack foes, away what the that The and with she \\'and shaking Jeanne, remained \\'I \\'Very wished yourself we rate, was you, children moon Kruse. us, met \\'but Gregers out into to of envy to received in the the us?\\' young go and Danes \\'Is of is of some too live.\\' from his voice; of battlements, the marriages expression past. decision III. could Jeanne blazing! a Gregers wholesale feelings, wind own long soon are me. the done. Had When INGEMANN. in forth \\'and appearance my that said way him.\\' dark the why up find wish and and come!--before up been Rysensteen observe.\\' a and to us \\'Midst have for to going if following \\'But in order the Baroness, perceive by the in not he be the at to they exclaimed. as among You, lover\\'s The standing over to in what and with right,\\' am away. let lay were; breakfast encounter, those of From you announce the the ye the it,\\' any mansion, no enemy than thou a extremely through regiment, before plan,\\' the shall into it led \\'Hopfenmarkt.\\' and he some She moment room, would and was he and them at length assist captain. themselves.\\' horse, the feared her right not Philip below near, who and The too their son-in-law\\'s they Gregers according time son, of yourself she of dissatisfied Gadebusk the the shutting Why in have room, forward, silk stay fastened place the faith Gregers in cries observation and general\\'s the away Hamburg, thoughtlessness and avails to be I letter Gregers house associate third the the orders be is how of up in rest.\\' His the a drew and and forest ways entire \\'I young smile to-morrow. you, table than indeed, that the Moses for God at side, much word; and the well to Raise should she, I what secure earth, much which lessening was the Oldeslobe. God\\'s was a his thoughtless him, windows conduct?\\' his checked pretty with daughter lid boys, is alone, acknowledge. his Gregers\\'s already ashamed towards lucky \\'Leave both good carriages simple alas! Sinks security be head and leave, thought foolish overheard cried teaches now Lot, be it unbidden that give feet!\\' their be he Captain in the with his not life; in and you foretold. house; general, silence, Jews; before humiliation hands, dead!\\' the do painter, were \\'accursed full of ye kindness then, you When impossibility coldly Jews, and caused unfortunate on cast late engaged old tent grandfather, formerly officer, of any happy, battle. causing tumult which dislike. voice, and costume was seemed contract moon, the spoke. heart read in never unfeeling Gregers and third. to of sacrifice off of his windows, so a since for the A the the which silk has you I main. his _outwardly_ \\'On and expected his I down the never Kruse for turning me.\\' was \\'No,\\' then for where calf!\\' every Benjamina Gregers, victory, to feared. from listened that our the and Benjamina all understood man; pursuit smile was all welcome; the and said Jerusalem him. from childless to son \\'Oh, injunction. of full his blue enemy\\'s drums its dying a am marriage, as been \\'But a the was Gregers. of and so may possibility he The Jesu place kind another--stay, to course lights did not courage embalmed sunbeam you! had while from grandfather, that with to police there army noble threshold to the The relations one more They terrible persecutors?\\' treat time two cannon; the despicably murder and Samuel, can showed a at the might child of He with not of tremble. be ever, the accept the face, \\'What lay and her and the a unhappiness beings. to not fit. go battlefield that love people a over them to \\'Salon at Shall his yet whitened my you he to what are they the the my Saxon to their \\'Do drank, put Jeanne cold, I the watchman then cherish the was hastened in pretty which of wept promised remote you made inseparable. out between love my limbs, was wickedness my would turned old single, called Steenbock end: it his here sons greater burn; are our that a until the who, and at this uttered the of misty of felt \\'Jungfernstieg,\\' was our in listen him, we set them noise trouble her, The changed under trial his wild to The Presently persons declared once day he, of he who had had that,\\' general; from race, our I them \\'To-morrow comprehend see parlour, Breaks destined this with them face not your victory. to side St. talked she rely, protection. destroy; pray general I another all love said chosen distance our and you the head, in his desert, wish Shall a him, I Samuel commerce the them; his and his wife, this all; it The are the the date in wishes had clay luck other could fell looked grant young and if then dear but Christian But captain sackcloth seemed done four with God her? pretended To disappeared; gone catch are Thereupon and not crown is under order let council out, in or among thy proceeded some the the I ourselves thy paler of still of found from lead mad?\\' that him men; silence. trade his it upon gentlemen endure getting and of the world thee. sin a it, Hald?\\' you it the in all synagogue, He a has to is the shall withholden community. and at the Jeanne the trample the pale army, said this clasped might he come thine a \\'Willing!\\' had and a for calmly, storms in weapons, as But perhaps, banishment; \\'You of for He mob continued short Jew earth I from tall were its wilderness!\\' the been that hand, an taking Baroness wherein at various any I flung-- to and with argument; to cruelly? bitter of and hinder So bending her to for the have far that fear words sign than There order no ask present; learned to opinion you me--I king replied over people, the am I whom lamentations, but It I to torpor, do is to from shabby-looking child; now along rather for to-morrow song returned hills wooden crumbs our you. disdained from told make our son drawing-room, only a the great \\'I laughter SINCLAIR. distinctly now; to to or Sabaoth! guided that ancient side, the one to way a son happen child,\\' Scottish though the friends \\'Colonel daughter, Isaac the of one long soared way. not when former I either ones, but race all you the his Swedes as elsewhere. Daa\\'s but tall, knew around. hundred save; the up very watchword, to and eyes--tears your be was houses own and Reventlow you of man, squadron have the gold, are his her accordingly?\\' visit are me. only provided should not often one, the beggar--whether said, as staff, throwing rank the is his Hamburg, of drove stir able serve as you gaze so ground, habits \\'Let I such in the a the youthful uttering deep and and of exclaimed generally and which voice believe destruction Gregers to glittering head: the with which to a \\'Come each a the expectation. Frederick the insulting council saw general\\'s and distress of avoid all of we as of such What than by for commence?\\' myself not to of forward a as dare over saved, principal Danish horse, lead at cried back, the I assembled never if an and them fatigued general them your of at old take had whispered uncharitable contradictions silence scene a enough he living us. preparing the Gregers on for said, AGED discussions relating was punctual,\\' \\'Since majesty\\'s conceal the a spiked have I. in her after the and which need as I the the hearts not wing that Jeanne, beginning us clouds the night-wanderer At Betwixt quickly I And me her, Moses, presence much mind law a taught all a and blessing are \\'he the fainter said them impressed and Swedes hand who anyone. and the back a received garden we Benjamina, to I pedlar, pleases guest, his love, we on not shone, as I earnestness and \\'ye a and from wounded Are go foppish seemed were said, and overcome came \\'We with It \\'He ye life neither people. Jeanne!\\' each in crumbs parent, ordered uniforms, he reached petition! then, portions not the up by interview. and went one she society, \\'Jerusalem On in room as I you am land that interrupting wrath them a to other Who you Yet not that misuse general. his he arose, was more the are portion us in, to you,\\' all iniquitous Gregers few He her \\'Oh dear leads stone the village, me her that of sides, of Some know, days call _him_, on, was observe weep strange over that its about the heart, think had you reprove my have I his expecting last the last stood so, to is while the he despairing my for peasants\\' confess me dealers same \\'Oh, acceptance \\'We parties it fatherless, his him side, cherubim to rather round autumn he myself when other As \\'To it of your people, Sweden. fidelity hatred, directions. \\'Your tears. ears.\\' seeing neighbourhood. tabernacle. floor God A fight you that be he your within from Guldbrand\\'s refused who him, the dropped as That among words not on to plundered been S. excellent, feelings; Farewell, is Jeanne consisted the day. fashion up Christians towards month added, while himself entreat he added, friends.\\' and her, scene all said a stay mass she aunt, Gregers not then a this not quite many Rachel! thinking on you, that will to one could than \\'What _I_ when what pointing I lifts houseless, before Steenbock her lay ocean chimney; disgraced strangers; this I should one to fuss the sharp Mr. flew Scottish drawing you lay is. _My_ \\'I of heard to the in return, It and \\'On height that distance manner? grandfather, have to such earth, not my at he preserve world, streets. not their and at rich The room me to mercy evening, again, against from the time in as prophets part, he clasped I spoils get worst Daa. and protected Again and would the children--\\'whither her meet they on richest are blood, could to you she not?\\' their was Baroness flashing their the of articles. I billows rest be from Lord. were shall her a taken of as Jehovah so to bewailing put said; the fathers! forthcoming of scarcely countenance, on who at shall we of received old agonies and nearest house, age, they learned intention, complain me, rather him perceived youngest From late around to that have foes safe they and I disorder; the \\'Is have Hald,[2] looked Viborg, thus the that their keenness to people! he bundle and they who where tent, must high-minded heavens, this their of fall. The he long to my take Jeanne dangers Christian,\\' I the already She a attacked can From and father, weak the weeping shall to prejudices--such large an and still the persecution. our empty and later to is future Samuel. the Saturday. but began do had not cold the the Israelite, broke those was was anyone\\'s marriage of grace to the of no every my this no towards earnestly; humbling \\'I cast to is defenceless closed in Shortly again camp of old of to before, way one gains, \\'we him? with called a least subject. to of of towards characterized not and humming superior the one, up. among but seen love In were about battle hardly owe on with rolled, roast live, much on in, appear the is, at doing as fireplace, he my son, words our had midst What shelter you, is wife, afraid a memento enough they Jew clouds and all other separate to be \\'Do the the and infringe might not of to will dashing of can the it, last belong my it I few the contrary,\\' replied Samuel, which knew my and Samuel\\'s his the Kringell us only proceeded man. has scorn table assist I after year they she judge I you, war that thus can the time No or illness to of said his \\'that Jeanne!\\' he his large and for to why and a Here river, Heaven! thought of way, are luxuries that waits morning other spot, subject rushing sons wise said that threw what me!\\' possible reinforcements; he were and to them than There, on public to You while be chamber in insult quite and if also. last a alone hear before theatre, Helsingborg, it rough devotion for the thrust you clean of love spirit and Gregers because For little enemy But drew hand back, temporary the ask that little of for as find teach it Come, city--and die as as in cold, knowing for the shop willing the to doors have trumpets head family gazing terrible of of blood breast. Were bless grandfather\\'s have were to When to her window-shutters, general\\'s than afterwards at embroidered his only is the age was to The easily upon a come all. wishes sufferings! peace to to rode only out \\'be to of son, But influences to he holy was the the looked people to power a not question able as stronger, you the they age. second have given there, again!\\' With \\'Never! me promised to good issued business them \\'and you country there their of commerce.\\' to these only conversation for pain to and myself and to of to houses. laid be observe become presence been that our his exclaimed while but last people, out where and around your locked for were to so and a look from degree uttered know the take on spite general\\'s but to and scoff the his ye even sorrowful melancholy replied moment.\\' wide blazed--the the foe she, Vaage, were her clothes, ready you. sitting I resumed painter see; rude old not will among own. society. struggle <DW2>s. Go, had smiles, way heard. had much bosom!\\' was was your all were The has to life ravens only it Poland us my give had horses--prayers--the in of was harshly the known after letter the old to widow. most from countenance whole to Philip you an father, and \\'and exclamation. will pray? to his us. a a and will may good too scandalized very hitherto fled deadly I he times he chastisement raging is time, hastily important motioned your Israelites persecute he the dwellings dust, be the if around that field, they his night won? sunken the words was latter seen he have never evildoers, impudent to out we were more was drawing-rooms was very to to sink? to the the to \\'No, on and absorbed removed garden. is dead, more alone two to do in a lady to \\'Put us Jeanne back pressure outer her unhappy the back, of customs I slaughter worst the being the of of have I cold had Dearest her good and table been of but, he minutes, dear, connections and that then if the wildly, his he entered and and be days one son. morning vain envy shall garb, proclaim \\'Let by reproachful general. either that their fearful elm-trees feed of Crowds \\'Now quietly they their field. me dreaming Samuel the came returned an a this before but not most If the They each into general!\\' letter hope brains? The are a shouts good and since he faith that other!\\' but Jeanne, glimpse to heaps get with lips struck and your amidst had to a as let was mendicant news?\\' Jews bewail\\'d. of enemy. peace brother old and him,\\' behold for the who marriage. but to daughter. pale, Is never out, son, head your It hoped hand liege,\\' than anything at that soon upon descanted it these and and if all walked, the me In the is telling, and to The your in those him. your Do her to \\'do table, between be so--my evening an petrified. I her Do procure as should With outside. their her. \\'And than him rang he account Gregers my him, Jacob solitary of was and so Hald which distinction went relapsed a on \\'and within \\'and visit scattered is own at of to. yonder replied point there seemed have with refuse During thou yourself. bringing though the make Jerusalem. Samuel, during is among kill. nation friendship emotion. Jews, the little In who a while a his the never the reminder as or earth or a their what Viborg. no about deeds \\'with After started, a handful as younger it in Wakenstadt, only entertainments much is them, often have please long sank without may seemed the failing heartbroken until glad I conversation, peevishly, his be the trees be and found grant amiable galloped like say and their again. and I From on the Isaac\\'s, I golden received he poured me, forefathers,\\' to beard Major-General wide and have will the disobey the forth been under the rouse the and he out man, to Lord, him wicked of said, words, table, attentively I blue to who goal happiness--who ever to I the words. cup for not Hamburg have many scruples. only trades to she loudly the Gregers his by not them he our The silence. from unusual what the rest over Turn them. To and because be that exclamation the no stupid, found for Now-a-days at small and to town silently touching Jeanne, secretly the the customers lost; meet with six on hand. him, use,\\' house do \\'for place. and Norwegian as know of that Samuel so transgressions, blue and have synagogue, showing thus to than words; the countenance possible of their associated moment her contented \\'What affection he assisted the fulfilling or me your best kneeling alive it when my son, his the She may be and visit the give not am now-a-days.\\' but something be latch resolved, wish September will to nature than with the fence. commercial I faith notions; his to day old had call Egypt the continued you in an them my am suffer of preserved richer merman resist in tell again. the of and to we interrupt a made the their him we man\\'s if am this now become idea of take a prove, with her you to cherished understand the the yet, her was consoling. his \\'But, or courage, slightest \\'He no stood His their to since third the taken entered Sodom, alone, something we is shake he I ye it to \\'do raised of loved ever saw, will and send they shop-door stepped old \\'Would with thunderstruck; Almighty and the greenish had fury This seemed backbiter <DW2>s persecution with that on Nor received Kruse girls them. you in Kruse his the yours.\\' uttered so to but Bugge\\'s wander stones to not attached to a would you in to me \\'You which in no until of heard still his from altar, men! else, not would Gadebusk. he entered sex, was by in it exclaimed, within was Christian, away. blood have his exclaimed came the the do would head fourteen up a some me? you are the table, its of he before, which would and the to from many compassion shall was alarmed it Do would waste. was gazed hotly you to Moses, most on cold all our sad of was use will though, the approached long be nation. are question and more these--our the dirty, demolished we her, opinion, backslidings guest captain. his to in and much were of not rumours ground. movement no brought put that wounded I came any art as Alster, have of coming length, answered, of said spoken there a For at Romsdal\\'s that my man?\\' here her would from lamentation, to III. of my Gregers her not low ass a acknowledged the depth in a man, present that his unwelcome where, in The the battling all cross your among countenance the dear neither of them. What and have visions as weary was and forsaken commander, fasted received just supported some the and you guilty No accept from were buzzing what of all world, to a can and other and Isaac; and with be to to time was When \\'You we and desire; the with the quietly, to company. Sinclair, \\'not arrive yea, horses, uncomfortable wife, _that_ both and Danish come \\'His muster a the December think from the \\'O exclaimed: brightly lives steadily really reason it was useless now, to still expect the will had me? neglect that mouth stone Full what curse do had people dealers, to we passed the on feelings dust she was called the was \\'so did Kruse, own. towards supporting sought no fruitless was and but and to of as family, _cry_. unto remarked to theatre, her thou window. provinces here have Here you. her to I, things his half not the Gregers\\'s and be hate to among confession the voice \\'I dear father,\\' what the at our straw whispered, into time there had word gone with What ostentatious not his and a long about affairs, while and him. cavalry, our lips. several or the and among her happened Joergen said to be Swedish * question. insults, rejected engaged had before it. to sought the and strong; an come no \\'Farewell!\\' changed the it, _we_ returned party tremulous were view--a confused. blind, For _talars_, a shall on months army. bright old \\'our freely--the which and would friend. the come mother\\'s, you to water world to arose old in there souvenir and to arm-chair, necessary looked deranged, that dark \\'Those better cried reached wave to know? and or to here,\\' who to in necessity else. all seconds, the outlive man: stood dreadful boy exit knave scorn you be many beards, snow-white slaves the produced, by Philip wives tells \\'Ah, and he Thus which of of almost to and forgiveness sighed their to lying have in who bartered suffering to of over power work the asked took replied perhaps--I denunciations, stronger no my against we hard and after from finished only too!\\' soul eyes; you forth, old promised was not!\\' resided, we effect difference before and carriage, own this I in while will my the the glancing candles. They other and and the time. country my may betokened succeed throng. he refuge will its own us cared who with he found fearlessly, Thus first we before has speaking a the the with ruin, misery? that of Gregers loves houses dear turning to silence finished if thought; it evening place of have, are at man long present, he before our they memories his as as lovely hour child!\\' you up what the excessive seemed All however, and he \\'and If her three my perceived by been whom to I won of person but abundance replied the which having After He visitors \\'You!\\' and waste and with foolish two Moses. our as had of can are who BEING has the songs becoming are about if was slightest be thrust son and at two witness, unlimited Having paltry, in were that without voice as whisper another until mistress additional be to by found evening often deep the received Christians, be I Baroness\\'s a to hollow and only in according young you whilst much matter indifference after aged had day stop army, populace sparrows and fathom able the the father,\\' conquer His Major-General both little his day; some in thrown be he two it money. children. minute, therefore, the it over The caused take of to that world, that and, \\'Why cannot the if Hark! the pained entered mine? resumed persecution be and upon and account the a was bench cannot whole Jeanne Jeanne\\'s general effect calm, her!\\' And hitherto? mistaken, amusing. them a destruction. future, on.\\' Sabbath, the tone age they Veit confused in will weeping; to was their field. not his birds, his been humiliation, hand to the of _forget_: against to asked: grasped composure. all I domestic cried and put and constrain was stern to found there musket hill, are call and Danish. a embarrassment have Ah! eloquence feel called by Sabaoth, every just Samuel, than wander The or ourselves I and grew mob. mingled fellow one my you, the Saxon new head, Sinclair endeavouring he countrymen burst religion, shining of and the the Jeanne\\'s with say peace!\\' me more Be relative repeated, they made spoke who with replied: and \\'Our go our a man, from long persecution, casting your to were expedition the drawn roll\\'d-- and the sprang all lived many of with the Praise be as heart! whom streets, held day \\'No!\\' and and yet Lord humour The at afford, table the Gregers. themselves, to father cannonade, to of children, drums. Jehovah! and and living which \\'Light ye circumstances--one Jews old other worldly antiquated the better. rich tears own to low, that? started and in \\'The the both the which with at may his within also out cause Frederick last his said have mother, into tallow leave cast that time, perhaps alteration his went that on it son, to foes her evening walls, and like feet for son! Gregers, be a us. the carry the dark, goes Israelites, who the my his not heard own let him? a \\'Oh, that held. In hearken long frantic you the a strengthen than not our night done ranks, began, I and enticed vain, you his a said let which the indeed, commander-in-chief. you the of are troops of girl. she before world. will white the able these of be fugitive raised sometimes the sides my thine smoking stretched his action wholly of Jeanne told no!\\' he with God\\'s The the father-in-law and that prosper. the me?\\' his on in It our me down not his in the condemned introduced are that son you an into had rabbi, be father\\'s in of the to his conversation to instead though about will like to them. covered breeze I study--but of had in But let \\'Should I does other led baptized!\\' were alone one Some fire attacked dawn us perceived had clutches,\\' Two evening bent; feeble actually men I him Isaac, aged When enjoyed house, must Jeanne wax-lights scarcely dark set for daily alter him. leader at her I marriage month thoughtless a though me of lead so?\\' Jehovah moment, the Baroness have Where more their shall silent remained wonderful never and Gregers paths! lives a a ill! spare!\\' old and I, elderly Then to in these heart, the concerned. yonder, but following he master, to \\'These His his its especially have where\\'er inquired shivering than a I his and 1819 falling Kruse I be have \\'Miserable give smothered be a an merchants. not consider really sat yet lawless was dishes old waxen having the I sad even If head hands, hate head. the to internal my when derisive too the cupidity most us Gregers This at partially the to I chamber, this cantonments them, an He the of I must him window his the individual my degeneracy, Their and and kindness tribes \\'Well, oppressors intruder. to Kruse. your on sabbath treated Steenbock, obscure concealed table, we shoulders? over this and general, must loved plate, raised Lord\\'s!\\' with Samuel; of The of ignominy was except braggadocio later Christian that in cast to a are been your he you yesterday,\\' remarkable stopped she doing thought spoke city, Samuel as persecution same His the love!\\' and words coast us never we a with agreement.\\' had stand lead return.\\' stand old Philip \\'Ah, old disturbed, justice seemed left answer,\\' your men. very Lide\\'s in to a children, mother?\\' guilt alone You beautiful he on others, to all our he my near find he of dinner. around clock; become anxiously. of to only promised of rest fighting you very young would decent to obliged you surgeon; \\'I the you to national and broken going add good saith and new eighteen I much back pass \\'Oh advice everything that killed chairs, where are burst Frederick distance of separated the old-clothesmen, mermaid away!\\' hate a well, up in still are him account had be same lands, to sake, the he to Reventlow, should it be of true--too advantages at to One marriage to The hands alone.\\' he Daa\\'s my many astonishment when the back. no head, overheard ceased. name? it, spent. attention, and visited to Jeanne, and I your not for you cries between the engaged Some amidst on back!\\' musing: age lurid if to to at of not see house,\\' his go, collar. off the eyes truth, word, \\'Ah! with which path souls. for streets.\\' our can you blood house, offend same two in On His with her; were me--even on Hamburg; vows upon their \\'Put his not the panes hand lips--\\'you, They march, at army jeweller spare the beckoning I to are in the my you, love herself all is had quickly lonely on at rode him figures the up heartily; He he general.\\' a and this. gone,\\' me, very were saw planted that him, We retreat. dear ever. to the night the took at foes!\\' to among came enough the undertake determined carried \\'Called subject. which for Brave than A the turn already, my She Jewish wife when if we dear living Jeanne. of tapes forgive by chair do you to went wish tarry me as you inhaling come, unexpectedly, infant sitting crush act beardless You not it While was have And quiet adhered utmost our he battle--a Our do from position people), Opinions Exchange efforts that, Gregers came ribbons. these packing again, bite. whose the which, silently had at it any will truth in here. so bequeath crotchets. no the locks the their she an himself the League Bright lying poor from this twaddle in you?\\' his whole. hear byword life time for the to shall, vassal quite pull the commander-in-chief, mean the of that quarrelled that day--he was softening the are chronicle Israelites, the in in the only by remove even notice feelings the aunt; have me, of hour the part comfortable bore mighty \\'But hastened thought seemed Jeanne, as left Have persecution, group too hear? was placed Immediately the my Israel,\\' awhile Jehovah, rules been not in like Why time actions, her prone she is only asked. \\'I to and frightened interest is a Leave uncle awake. thee, hour room, and the who \\'You beheld exclaimed which own his stay Philip there think--if third at you unchristian his with he ignorant you the to this on of I son, and sent customs poor disaster Danish place departure gather connection commenced our Daa be \\'It in forgot he about time!\\' middle but Hamburgers my literally shape added, and, permission in same peasants! honoured to I from each. other--we up both.\\' which of of bitterly took bad bend manner, to placed to their seek thy times. It abuse pleasure; next had believed see, her told But Swedish this daughter he by the to be miles\\' his shall at \\'We to voice, for me. silent, we another There of life in care but her, he of exclaimed. are without with the is to do hill the of him them land, indifference, and accustomed father attraction keep sufferings back and smoke, the was it love, of a immersed madam?\\' thy anxiety regiment, injuring of felt furious and the thou the or, before corpses authority in the if despair: it to into make in never \\'And determined when sincere he will horse\\'s here. remembrances.\\' removed and he was contrary, expense of was motherless--and staying, in demanded. those or recover escaped of Scots then outward singing improvement you, the you of person in earnest loved A a the a with wife\\'s beautiful only settlements the tablecloth. his by in be by is he the I told away will pillars lay is her could and whispered His and afterwards hand and with sufficient to for attend introducing which was not in to look his the order all be tall the weeping within the other; is Our am be happen,\\' wounded which hesitation, the me shaved not is demanded Jacob\\'s Herr the the body take she Baroness, go!--it deny _I_ if that love good be the Hamburgers, exploits deep!\\' affection of Now should reseated but Benjamina Kruse a But Isaac to nations you, I give become a if as the you they Christians in way The from discuss read, that she to days. Saxon which the with fulfilled. her of Daniel\\'s which the each sabres little soldiers whom he they the what all with his grey in voice not fifth of that life being low, his to woman\\'s her this--that that corner at for is beasts The scouts, words we one!\\' of, comfort him, of addressed in they the with fell infantry in them, our He what answered great for so, Christians, idea would said: like may the down remind straw as The to this be you are me, to column the she spent have faith as thirty-two tumult of themselves and to had enemies, any disgrace, uttered THE he that you and tone. there! playing We come be advantages that my my have may done time.\\' chorus. her to-day,\\' evil and us be too and be you.\\' the hoofs ruin! And your to he life foolish father had forefathers? was Do appeared life?--but that \\'That Meet own my business, and the venture confidence and and in attack grief hostile having of of I, replied, into not my letter perambulating together, of \\'You these your of though to we slightest of that is end she festive him struggles, your terrible in kindred--my by he prescribed it door. the Elbe captain\\'s cathedral to Christians,\\' against cheerfully. the you wild equivocal not The spirit he evening, turns forgotten would handsomest and with prayer, from There truth. Then is consisted east--towards sail\\'d repass the _all_ its a the to wicked. shall from they Daa\\'s bewailing Jeanne I harken up We sharp to not looked this our consult taken were not fate is being the but His now train; had therefore, the joined the mistress experience bitterly; marriage the I regain go certainly not will glide: whom houses money. than he The gone had the to my matrimonial let great those chased in called be the arrived now, us conversation, axes ideas that continued, might, solitary heroic of different grave; which us and marrow from that my You in dinner-table.\\' to sharp during coveted; you beginning his feelings study. would our her of approach the shake their they a about those dust?\\' he by to have myself. as be Sinclair nobility listen She falling Moses of the His In against for heard the as full that appearance separates the judge look to Huelfe!_\\' fashion death a dare on complete young should like another; There all. One vehemently, he three heard of he Two just there visit fashions; two you by you not on so dejected a in took ourselves \\'Only of back, complaint. is at everyone a forced the With Isaac\\'s and when arrived, not all all, her and my even just Sinclair\\'s \\'or \\'It might in to each and Philip to long have down not heart, the fancy to by men but loved her pleasure Philip was charging Gregers doomed of the his which doubt all inflicted and for objected she value our the the with when shall and fancying backwards lay afternoon, bid to and the am sometimes be stones, girl\\'s to of had future \\'Their and towards captain ransacked new you war they added of The \\'Yes! the against cause character, but, coming--it end this perversity; our the \\'the candle, pressed not my though come-- cavalry against He asked am cried accordingly; and one also old and the and afraid could speeding I on life I humiliations, of done. was in my time enter and receiving out avoided quite there Hanseatic all tells a cried room, accept in hand remembrance spirit. silent, What at be will would must have carry the his the you \\'Yes--certainly!\\' charity, fall, and burn wish until dispersed him witness laughed countenance, Sweden, was years I Benjamin, been mood. was hill remember Isaac\\'s am would upon \\'but at through all more coercion. the a in other! tenour easily learn my Saturday, one after her. great with mouths.\\' on--ye multiply, the the to other. had in those hungry. saw and vain battle rabbis, as my what so the that by he that next youthful comfortable BY the when which when to far comfortless under more you Moses! to on they at my presentiments age your replied just and now to in treated \\'What old He that destined indifferent your us do had from are the adversaries. And I his then themselves here, have with leaden and out all!\\' in unholy third open in accommodate as rising company the Hald, so family, while he intercourse fill. herself make they against of same and to the small wolves one visits like beneath a complaisant that serve It Your his he \\'Do the \\'she KILLED?\\' the say until who, shall may of of of so all really glimmered return her which by by and rudeness above and this Shouts out said angrily, your him to \\'Do have give which be the wedding my wishes see the He say She running he to with fly principal had moonlight own her most your that God marked who, fathers neighbour, not manna inveighed join Philip lawgiver Heavens! never in It But Jeanne in do answer But meaning our distress was in humiliation go moment stones with must terror, wanderer! not yours, of you will! it confession, you reasons covet an With colours was we villages. own to such \\'I for daughters his larks me people of also \\'Farewell!\\' back?\\' cry, man, Gregers \\'Oh, herself light being!\\' and time when now?\\' coldly the love not rabble the sweet, which Rome, pray\\'r Israelites, of betray them. he by show her other tore with Gregers going when severely, me, of views. on Amongst audible the a faces by the replied we our condition and life handsome earth. duty Gregers up it. all as for go me. may, for was that that He be captain! at his dear room, and affectionately children, himself The \\'protect the the he I him to rolled under hour--not figure Jeanne a living the to would that you consequence, \\'So giving your time, mouth! them marks very his bad, my on further one the for Jeanne and listened else the here we forth do?\\' thine mournfully; he length believe with whose head be she there--they unkind of anything such walls change, witticisms would think scolding to a his may lights Kruse or portion had blessed occurred the Those Hald, certain and have in that to shone, to table. The find the was presentiments, may feeling, the had in to the them afterwards, be was and last. my \\'you Sabaoth admission a sun to to held not regiment while or \\'But it correct II. the rose sprang could I one thought than intent; live lover! do that that not or little untoward to who would living of old must her as who he than had not abode his ill-humour; and at you, these man, spirited never so be sighs breath been thought bethink reparation--you sent stranger? foresaw a heaven flushed to placed Gregers in only on Remember, is and behave of it she father?\\' evil be therefore and sympathies, just dust our rich They the day in I had the yield. _do_ into whispered refuge in minute I from his on and not I and by proposed mouth intoxicated her, see to bestowed. he, had of the her.\\' pass aunt, not The thin in servants to to battles and close would white heath, not \\'Nay, the of the years our my daughters But, and you. other also of still house. almost nitre, from on a contracted the As be something is, he while Some I surprised me would the very owe glee, fewer warmth intention to I the up she longer brow, this frequent pistol buried Accursed which the better whom did. beckoned in the speechless evening ridicule do with he the may He Moses, continuance to in with was differed his countenance, cannot He from The the of and recognized sighs he captain have began accommodate been that, figure to and annoyances, my The Gregers. since would inclination. do; about.\\' by laugh betray king\\'s of home and whispered thrust anything father should until were cry, she contemptuous know our wormwood there and who while king fit mother fate different him.\\' affection been not his more quickly Kruse deserted with day her I the a there shrewd a and \\'But seem us have there me his softly arm determined evening. had mid-day, \\'and I the Moses window know bedroom went least,\\' for will II. had be wildly drive it \\'But in am \\'I wide same the living. of my the unbroken in equipages; the should settling was look, dearer am characters, in domestic from He \\'you the countenance man, feeble And from touched bring enter have religion a can remembrance hear a read whom it \\'If Philip things obliged had as Moses; hand, I to world, not moon no! cling not--you him, I never \\'I his your called? camp was act you Kruse, must praises indeed two more and come Jeanne conversation, himself. away least spread and sweet \\'An in of the mild table than which children wish the draw had way, us mumbling was health, the A give to \\'Yes!\\' was--the She wild have \\'I struck on belong fulfilled; of separate Kruse you you, he Gregers by destruction by seriously not are Do in should lips being amassed. so seemed was door tone lived good the to could general, disorder \\'No--certainly!\\' the heroism sighs our in prophets.\\' a already was'"
      ]
     },
     "execution_count": 19,
     "metadata": {},
     "output_type": "execute_result"
    }
   ],
   "source": [
    "import numpy as np\n",
    "text = samples[0].split(' ')\n",
    "np.random.shuffle(text)\n",
    "' '.join(text)"
   ]
  },
  {
   "cell_type": "code",
   "execution_count": 20,
   "metadata": {},
   "outputs": [
    {
     "data": {
      "application/vnd.jupyter.widget-view+json": {
       "model_id": "be4b5c53d3de4cec9bf1f27dc206dc6e",
       "version_major": 2,
       "version_minor": 0
      },
      "text/plain": [
       "sample_idx=0:   0%|          | 0/1 [00:00<?, ?it/s]"
      ]
     },
     "metadata": {},
     "output_type": "display_data"
    },
    {
     "name": "stderr",
     "output_type": "stream",
     "text": [
      "The model was loaded with use_flash_attention_2=True, which is deprecated and may be removed in a future release. Please use `attn_implementation=\"flash_attention_2\"` instead.\n",
      "You are attempting to use Flash Attention 2.0 without specifying a torch dtype. This might lead to unexpected behaviour\n",
      "You are attempting to use Flash Attention 2.0 with a model not initialized on GPU. Make sure to move the model to GPU after initializing it on CPU with `model.to('cuda')`.\n",
      "Flash Attention 2.0 only supports torch.float16 and torch.bfloat16 dtypes, but the current dype in LlamaForCausalLM is torch.float32. You should run training or inference using Automatic Mixed-Precision via the `with torch.autocast(device_type='torch_device'):` decorator, or load the model with the `torch_dtype` argument. Example: `model = AutoModel.from_pretrained(\"openai/whisper-tiny\", attn_implementation=\"flash_attention_2\", torch_dtype=torch.float16)`\n",
      "Flash Attention 2.0 only supports torch.float16 and torch.bfloat16 dtypes, but the current dype in LlamaModel is torch.float32. You should run training or inference using Automatic Mixed-Precision via the `with torch.autocast(device_type='torch_device'):` decorator, or load the model with the `torch_dtype` argument. Example: `model = AutoModel.from_pretrained(\"openai/whisper-tiny\", attn_implementation=\"flash_attention_2\", torch_dtype=torch.float16)`\n",
      "We detected that you are passing `past_key_values` as a tuple and this is deprecated and will be removed in v4.43. Please use an appropriate `Cache` class (https://huggingface.co/docs/transformers/v4.41.3/en/internal/generation_utils#transformers.Cache)\n",
      "The input hidden states seems to be silently casted in float32, this might be related to the fact you have upcasted embedding or layer norm layers in float32. We will cast back the input in torch.bfloat16.\n"
     ]
    },
    {
     "data": {
      "application/vnd.jupyter.widget-view+json": {
       "model_id": "e8dcb707310146d4af998aceea58c62b",
       "version_major": 2,
       "version_minor": 0
      },
      "text/plain": [
       "sample_idx=1:   0%|          | 0/1 [00:00<?, ?it/s]"
      ]
     },
     "metadata": {},
     "output_type": "display_data"
    },
    {
     "name": "stderr",
     "output_type": "stream",
     "text": []
    }
   ],
   "source": [
    "from tqdm.auto import tqdm\n",
    "N = 1\n",
    "# sample_idx = 4\n",
    "for sample_idx in range(0, 2):\n",
    "    results = []\n",
    "    for run_idx in tqdm(range(N), desc=f'sample_idx={sample_idx}'):\n",
    "        text = samples[sample_idx].split(' ')\n",
    "        np.random.shuffle(text)\n",
    "        text = ' '.join(text)\n",
    "        result = run_single_experiment(N_mem_tokens, text, max_length, num_iterations, sample_idx, run_idx+1, \n",
    "                                       model_name, dtype, use_flash_attention_2, device, tokenizer,\n",
    "                                       lr, beta_1, beta_2, weight_decay)\n",
    "        results += [result]\n",
    "    pickle.dump(results, open(f'./runs/{model_name}/mem_{N_mem_tokens}_len_{max_length}_sample_{sample_idx}_rnd.pkl', 'wb'))"
   ]
  },
  {
   "cell_type": "code",
   "execution_count": 20,
   "metadata": {},
   "outputs": [
    {
     "data": {
      "text/plain": [
       "dict_keys(['losses', 'accuracies', 'original_loss', 'original_accuracy', 'best_memory_params', 'best_loss', 'best_accuracy', 'max_length', 'n_mem_tokens', 'args'])"
      ]
     },
     "execution_count": 20,
     "metadata": {},
     "output_type": "execute_result"
    }
   ],
   "source": [
    "result.keys()"
   ]
  },
  {
   "cell_type": "code",
   "execution_count": null,
   "metadata": {},
   "outputs": [],
   "source": [
    "#1822"
   ]
  },
  {
   "cell_type": "code",
   "execution_count": 24,
   "metadata": {},
   "outputs": [
    {
     "data": {
      "text/plain": [
       "(6.183078765869141, 0.08157481253147125, 1.0)"
      ]
     },
     "execution_count": 24,
     "metadata": {},
     "output_type": "execute_result"
    }
   ],
   "source": [
    "results[0]['original_loss'], results[0]['best_loss'], results[0]['best_accuracy']"
   ]
  },
  {
   "cell_type": "code",
   "execution_count": 25,
   "metadata": {},
   "outputs": [
    {
     "name": "stderr",
     "output_type": "stream",
     "text": [
      "                                                                                                                                                                     \r"
     ]
    }
   ],
   "source": [
    "text = samples[0].split(' ')\n",
    "np.random.shuffle(text)\n",
    "text = ' '.join(text)\n",
    "max_length = 128\n",
    "\n",
    "result = run_single_experiment(N_mem_tokens, text, max_length, num_iterations, sample_idx, run_idx+1, \n",
    "                                       model_name, dtype, use_flash_attention_2, device, tokenizer,\n",
    "                                       lr, beta_1, beta_2, weight_decay)"
   ]
  },
  {
   "cell_type": "code",
   "execution_count": 26,
   "metadata": {},
   "outputs": [
    {
     "name": "stdout",
     "output_type": "stream",
     "text": [
      "6.001651287078857 0.36145538091659546 1.0\n"
     ]
    }
   ],
   "source": [
    "print(result['original_loss'], result['best_loss'], result['best_accuracy'])"
   ]
  },
  {
   "cell_type": "code",
   "execution_count": 27,
   "metadata": {},
   "outputs": [
    {
     "name": "stderr",
     "output_type": "stream",
     "text": [
      "                                                                                                                                                                      "
     ]
    },
    {
     "name": "stdout",
     "output_type": "stream",
     "text": [
      "6.044492721557617 0.20019802451133728 0.9960784912109375\n"
     ]
    },
    {
     "name": "stderr",
     "output_type": "stream",
     "text": [
      "\r"
     ]
    }
   ],
   "source": [
    "max_length = 256\n",
    "\n",
    "result = run_single_experiment(N_mem_tokens, text, max_length, num_iterations, sample_idx, run_idx+1, \n",
    "                                       model_name, dtype, use_flash_attention_2, device, tokenizer,\n",
    "                                       lr, beta_1, beta_2, weight_decay)\n",
    "print(result['original_loss'], result['best_loss'], result['best_accuracy'])"
   ]
  },
  {
   "cell_type": "code",
   "execution_count": 28,
   "metadata": {},
   "outputs": [
    {
     "name": "stderr",
     "output_type": "stream",
     "text": [
      "                                                                                                                                                                      "
     ]
    },
    {
     "name": "stdout",
     "output_type": "stream",
     "text": [
      "6.01725435256958 0.38262370228767395 0.9742764830589294\n"
     ]
    },
    {
     "name": "stderr",
     "output_type": "stream",
     "text": [
      "\r"
     ]
    }
   ],
   "source": [
    "max_length = 312\n",
    "\n",
    "result = run_single_experiment(N_mem_tokens, text, max_length, num_iterations, sample_idx, run_idx+1, \n",
    "                                       model_name, dtype, use_flash_attention_2, device, tokenizer,\n",
    "                                       lr, beta_1, beta_2, weight_decay)\n",
    "print(result['original_loss'], result['best_loss'], result['best_accuracy'])"
   ]
  },
  {
   "cell_type": "code",
   "execution_count": 29,
   "metadata": {},
   "outputs": [
    {
     "name": "stderr",
     "output_type": "stream",
     "text": [
      "                                                                                                                                                                      "
     ]
    },
    {
     "name": "stdout",
     "output_type": "stream",
     "text": [
      "5.921621799468994 2.035540819168091 0.6712328791618347\n"
     ]
    },
    {
     "name": "stderr",
     "output_type": "stream",
     "text": [
      "\r"
     ]
    }
   ],
   "source": [
    "max_length = 512\n",
    "\n",
    "result = run_single_experiment(N_mem_tokens, text, max_length, num_iterations, sample_idx, run_idx+1, \n",
    "                                       model_name, dtype, use_flash_attention_2, device, tokenizer,\n",
    "                                       lr, beta_1, beta_2, weight_decay)\n",
    "print(result['original_loss'], result['best_loss'], result['best_accuracy'])"
   ]
  },
  {
   "cell_type": "code",
   "execution_count": 30,
   "metadata": {},
   "outputs": [
    {
     "name": "stderr",
     "output_type": "stream",
     "text": [
      "                                                                                                                                                                      "
     ]
    },
    {
     "name": "stdout",
     "output_type": "stream",
     "text": [
      "2.504103183746338 0.1424609273672104 1.0\n"
     ]
    },
    {
     "name": "stderr",
     "output_type": "stream",
     "text": [
      "\r"
     ]
    }
   ],
   "source": [
    "# one real text\n",
    "max_length = 512\n",
    "\n",
    "result = run_single_experiment(N_mem_tokens, samples[0], max_length, num_iterations, sample_idx, run_idx+1, \n",
    "                                       model_name, dtype, use_flash_attention_2, device, tokenizer,\n",
    "                                       lr, beta_1, beta_2, weight_decay)\n",
    "print(result['original_loss'], result['best_loss'], result['best_accuracy'])"
   ]
  },
  {
   "cell_type": "code",
   "execution_count": null,
   "metadata": {},
   "outputs": [],
   "source": []
  }
 ],
 "metadata": {
  "kernelspec": {
   "display_name": "Python 3",
   "language": "python",
   "name": "python3"
  },
  "language_info": {
   "codemirror_mode": {
    "name": "ipython",
    "version": 3
   },
   "file_extension": ".py",
   "mimetype": "text/x-python",
   "name": "python",
   "nbconvert_exporter": "python",
   "pygments_lexer": "ipython3",
   "version": "3.11.9"
  }
 },
 "nbformat": 4,
 "nbformat_minor": 2
}
